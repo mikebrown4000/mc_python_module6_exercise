{
 "cells": [
  {
   "cell_type": "markdown",
   "metadata": {},
   "source": [
    "1. Round 4.5667 to the nearest hundreth using a build-in function, round()."
   ]
  },
  {
   "cell_type": "code",
   "execution_count": 1,
   "metadata": {},
   "outputs": [
    {
     "data": {
      "text/plain": [
       "4.57"
      ]
     },
     "execution_count": 1,
     "metadata": {},
     "output_type": "execute_result"
    }
   ],
   "source": [
    "round(4.5667, 2)"
   ]
  },
  {
   "cell_type": "markdown",
   "metadata": {},
   "source": [
    "2. Convert \"657\" to an integer data type"
   ]
  },
  {
   "cell_type": "code",
   "execution_count": 2,
   "metadata": {},
   "outputs": [
    {
     "data": {
      "text/plain": [
       "657"
      ]
     },
     "execution_count": 2,
     "metadata": {},
     "output_type": "execute_result"
    }
   ],
   "source": [
    "int('657')"
   ]
  },
  {
   "cell_type": "markdown",
   "metadata": {},
   "source": [
    "3.\n",
    "Write a program to get two numbers from a user. Then, create a secret code where a code consists of 6 numbers and each number is randomly generated number between two numbers from a user. "
   ]
  },
  {
   "cell_type": "code",
   "execution_count": 33,
   "metadata": {},
   "outputs": [
    {
     "name": "stdin",
     "output_type": "stream",
     "text": [
      "number 1: 1\n",
      "number 2: 9\n"
     ]
    },
    {
     "name": "stdout",
     "output_type": "stream",
     "text": [
      "Your code is: 581555\n"
     ]
    }
   ],
   "source": [
    "import random as rand\n",
    "\n",
    "\n",
    "#get input from user\n",
    "num1 = int(input(\"number 1:\"))\n",
    "num2 = int(input(\"number 2:\"))\n",
    "\n",
    "def generate_random_num(lower, upper):\n",
    "    return rand.randint(lower,upper)\n",
    "    \n",
    "    \n",
    "# code += chr(rand.randint(num1, num2)) # loop2\n",
    "# code += chr(rand.randint(num1, num2))\n",
    "# code += chr(rand.randint(num1, num2))\n",
    "# code += chr(rand.randint(num1, num2))\n",
    "# code += chr(rand.randint(num1, num2)) \n",
    "# # check if len 6 numbers?\n",
    "\n",
    "print(f\"Your code is: {generate_random_num(num1, num2)}{generate_random_num(num1, num2)}{generate_random_num(num1, num2)}{generate_random_num(num1, num2)}{generate_random_num(num1, num2)}{generate_random_num(num1, num2)}\")\n"
   ]
  },
  {
   "cell_type": "markdown",
   "metadata": {},
   "source": [
    "4.\n",
    "Write a program to center align below text where number of characters per line is 40.\n",
    "\n",
    "Output should look something like this:\n",
    "\n",
    "        Hickory, dickory, dock,        \n",
    "      The mouse ran up the clock.      \n",
    "         The clock struck one,         \n",
    "          The mouse ran down,          \n",
    "         Hickory, dickory, dock \n",
    "\n",
    "<b>Do not use string's center method! </b>"
   ]
  },
  {
   "cell_type": "code",
   "execution_count": 28,
   "metadata": {},
   "outputs": [
    {
     "name": "stdout",
     "output_type": "stream",
     "text": [
      "        Hickory, dickory, dock,\n",
      "      The mouse ran up the clock.\n",
      "          The clock struck one,\n",
      "          The mouse ran down,\n",
      "         Hickory, dickory, dock\n"
     ]
    }
   ],
   "source": [
    "line1 = \"Hickory, dickory, dock,\"\n",
    "line2 = \"The mouse ran up the clock.\"\n",
    "line3 = \"The clock struck one,\"\n",
    "line4 = \"The mouse ran down,\"\n",
    "line5 = \"Hickory, dickory, dock\"\n",
    "\n",
    "def indent(str1):\n",
    "    indent = round((40 - len(str1))/2)   # calculates inline space prefix from 40\n",
    "    print(f\"{indent*' '}{str1}\")         # prints spaces equal to indent; prints string; doesn't mutate\n",
    "\n",
    "indent(line1)\n",
    "indent(line2)\n",
    "indent(line3)\n",
    "indent(line4)\n",
    "indent(line5)"
   ]
  },
  {
   "cell_type": "markdown",
   "metadata": {},
   "source": [
    "5. Write a function to calculate the miles per gallon.\n",
    "Get a miles driven and gallons used from a user and call your function to calculate the miles per gallon. "
   ]
  },
  {
   "cell_type": "code",
   "execution_count": 17,
   "metadata": {},
   "outputs": [
    {
     "name": "stdin",
     "output_type": "stream",
     "text": [
      "Miles driven:  500\n",
      "Gallons used:  50\n"
     ]
    },
    {
     "name": "stdout",
     "output_type": "stream",
     "text": [
      "Your miles per gallon is: 10.0mpg\n"
     ]
    }
   ],
   "source": [
    "miles = int(input(\"Miles driven: \"))\n",
    "gallons = int(input(\"Gallons used: \"))\n",
    "\n",
    "def mpg():\n",
    "    return round(miles/gallons, 2)\n",
    "\n",
    "print(f\"Your miles per gallon is: {mpg()}mpg\")"
   ]
  },
  {
   "cell_type": "code",
   "execution_count": null,
   "metadata": {},
   "outputs": [],
   "source": []
  }
 ],
 "metadata": {
  "kernelspec": {
   "display_name": "Python 3 (ipykernel)",
   "language": "python",
   "name": "python3"
  },
  "language_info": {
   "codemirror_mode": {
    "name": "ipython",
    "version": 3
   },
   "file_extension": ".py",
   "mimetype": "text/x-python",
   "name": "python",
   "nbconvert_exporter": "python",
   "pygments_lexer": "ipython3",
   "version": "3.12.2"
  }
 },
 "nbformat": 4,
 "nbformat_minor": 4
}
